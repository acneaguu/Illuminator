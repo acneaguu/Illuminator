{
 "cells": [
  {
   "cell_type": "markdown",
   "metadata": {},
   "source": [
    "# Practical 1: Power Balancing for a Local Community"
   ]
  },
  {
   "cell_type": "code",
   "execution_count": 14,
   "metadata": {},
   "outputs": [
    {
     "ename": "ModuleNotFoundError",
     "evalue": "No module named 'simulation_creator_T1_Balancing'",
     "output_type": "error",
     "traceback": [
      "\u001b[1;31m---------------------------------------------------------------------------\u001b[0m",
      "\u001b[1;31mModuleNotFoundError\u001b[0m                       Traceback (most recent call last)",
      "Cell \u001b[1;32mIn[14], line 4\u001b[0m\n\u001b[0;32m      2\u001b[0m \u001b[38;5;28;01mimport\u001b[39;00m \u001b[38;5;21;01mmatplotlib\u001b[39;00m\u001b[38;5;21;01m.\u001b[39;00m\u001b[38;5;21;01mpyplot\u001b[39;00m \u001b[38;5;28;01mas\u001b[39;00m \u001b[38;5;21;01mplt\u001b[39;00m\n\u001b[0;32m      3\u001b[0m \u001b[38;5;28;01mimport\u001b[39;00m \u001b[38;5;21;01mfunctions_T1\u001b[39;00m\n\u001b[1;32m----> 4\u001b[0m \u001b[38;5;28;01mimport\u001b[39;00m \u001b[38;5;21;01msimulation_creator_T1_Balancing\u001b[39;00m\n",
      "\u001b[1;31mModuleNotFoundError\u001b[0m: No module named 'simulation_creator_T1_Balancing'"
     ]
    }
   ],
   "source": [
    "import pandas as pd\n",
    "import matplotlib.pyplot as plt\n",
    "import functions_T1\n",
    "import simulation_creator_T1_Balancing"
   ]
  },
  {
   "cell_type": "markdown",
   "metadata": {},
   "source": [
    "A neighbourhood is connected to the grid as sketched below. For a typical day in the year the neighbourhood has a given demand profile. To cover this demand electricity is taken from the grid."
   ]
  },
  {
   "cell_type": "markdown",
   "metadata": {},
   "source": [
    "**Task 1**: The following python code simulates a typical day based on hourly demand data. Run the code and describe what is seen in the plot. (maybe include quick description of what the python code does)"
   ]
  },
  {
   "cell_type": "markdown",
   "metadata": {},
   "source": [
    "![T1_basecase](Graphics_T1/T1_basecase.png)"
   ]
  },
  {
   "cell_type": "code",
   "execution_count": null,
   "metadata": {},
   "outputs": [
    {
     "ename": "AttributeError",
     "evalue": "module 'datetime' has no attribute 'strptime'",
     "output_type": "error",
     "traceback": [
      "\u001b[1;31m---------------------------------------------------------------------------\u001b[0m",
      "\u001b[1;31mAttributeError\u001b[0m                            Traceback (most recent call last)",
      "Cell \u001b[1;32mIn[13], line 7\u001b[0m\n\u001b[0;32m      5\u001b[0m \u001b[38;5;66;03m#choose which day of the year to plot\u001b[39;00m\n\u001b[0;32m      6\u001b[0m day_of_year \u001b[38;5;241m=\u001b[39m \u001b[38;5;124m\"\u001b[39m\u001b[38;5;124m2012-06-01\u001b[39m\u001b[38;5;124m\"\u001b[39m\n\u001b[1;32m----> 7\u001b[0m plot_load_base_case \u001b[38;5;241m=\u001b[39m \u001b[43mfunctions_T1\u001b[49m\u001b[38;5;241;43m.\u001b[39;49m\u001b[43mplot_load_profile\u001b[49m\u001b[43m(\u001b[49m\u001b[43mload_df\u001b[49m\u001b[43m,\u001b[49m\u001b[43m \u001b[49m\u001b[43mday_of_year\u001b[49m\u001b[43m)\u001b[49m\n",
      "File \u001b[1;32mc:\\Users\\jana9\\Illuminator_Git\\Illuminator\\Notebooks\\functions_T1.py:9\u001b[0m, in \u001b[0;36mplot_load_profile\u001b[1;34m(load_df, day_of_year)\u001b[0m\n\u001b[0;32m      6\u001b[0m \u001b[38;5;28;01mdef\u001b[39;00m \u001b[38;5;21mplot_load_profile\u001b[39m(load_df, day_of_year):\n\u001b[0;32m      7\u001b[0m     date_format \u001b[38;5;241m=\u001b[39m \u001b[38;5;124m\"\u001b[39m\u001b[38;5;124m%\u001b[39m\u001b[38;5;124mY-\u001b[39m\u001b[38;5;124m%\u001b[39m\u001b[38;5;124mm-\u001b[39m\u001b[38;5;132;01m%d\u001b[39;00m\u001b[38;5;124m \u001b[39m\u001b[38;5;124m%\u001b[39m\u001b[38;5;124mH:\u001b[39m\u001b[38;5;124m%\u001b[39m\u001b[38;5;124mM:\u001b[39m\u001b[38;5;124m%\u001b[39m\u001b[38;5;124mS\u001b[39m\u001b[38;5;124m\"\u001b[39m\n\u001b[1;32m----> 9\u001b[0m     date_start \u001b[38;5;241m=\u001b[39m \u001b[43mdt\u001b[49m\u001b[38;5;241;43m.\u001b[39;49m\u001b[43mstrptime\u001b[49m(day_of_year \u001b[38;5;241m+\u001b[39m \u001b[38;5;124m\"\u001b[39m\u001b[38;5;124m 00:00:00\u001b[39m\u001b[38;5;124m\"\u001b[39m, date_format)\n\u001b[0;32m     10\u001b[0m     date_end \u001b[38;5;241m=\u001b[39m dt\u001b[38;5;241m.\u001b[39mstrptime(day_of_year \u001b[38;5;241m+\u001b[39m \u001b[38;5;124m\"\u001b[39m\u001b[38;5;124m 23:45:00\u001b[39m\u001b[38;5;124m\"\u001b[39m, date_format)\n\u001b[0;32m     12\u001b[0m     load_doy \u001b[38;5;241m=\u001b[39m load_df\u001b[38;5;241m.\u001b[39mloc[date_start: date_end]\n",
      "\u001b[1;31mAttributeError\u001b[0m: module 'datetime' has no attribute 'strptime'"
     ]
    }
   ],
   "source": [
    "load_df = pd.read_csv('../Scenarios/load_data.txt', delimiter=',', skiprows=1)\n",
    "load_df['time'] = pd.to_datetime(load_df['time'])\n",
    "load_df.set_index('time', inplace=True)\n",
    "\n",
    "#choose which day of the year to plot\n",
    "day_of_year = \"2012-06-01\"\n",
    "plot_load_base_case = functions_T1.plot_load_profile(load_df, day_of_year)"
   ]
  },
  {
   "cell_type": "markdown",
   "metadata": {},
   "source": [
    "The community implements small scale PV and wind power plants to become more autonomous. Now first the supply from the local renewable energy sources is used to cover the demand in the community. The residual load is then supplied by the grid."
   ]
  },
  {
   "cell_type": "markdown",
   "metadata": {},
   "source": [
    "![T1_RES_case](Graphics_T1/T1_RES_case.png)"
   ]
  },
  {
   "cell_type": "markdown",
   "metadata": {},
   "source": [
    "**Task 2**: Run the following python code and look at the resulting residual load plot. Describe the plot and compare it to the results from task 1. -> include size variations"
   ]
  },
  {
   "cell_type": "code",
   "execution_count": null,
   "metadata": {},
   "outputs": [],
   "source": [
    "day_of_year = \"2012-06-01\"\n",
    "\n",
    "#Component Choice\n",
    "Components_RES_case = pd.DataFrame()     # moved to notebook to choose what is included and what not in set up -> need to adjust in simulation set up\n",
    "Components_RES_case['model'] = pd.Series(['Wind', 'PV', 'Load'])\n",
    "\n",
    "#Input Data Simulation\n",
    "pv_panel_set ={'Module_area': 1.26, 'NOCT': 44, 'Module_Efficiency': 0.198, 'Irradiance_at_NOCT': 800,  #panel specs\n",
    "          'Power_output_at_STC': 250,'peak_power':600}\n",
    "pv_set={'m_tilt':14,'m_az':180,'cap':500,'output_type':'power'}\n",
    "\n",
    "load_set={'houses':5, 'output_type':'power'}    #demand specs\n",
    "\n",
    "Wind_set={'p_rated':300, 'u_rated':10.3, 'u_cutin':2.8, 'u_cutout':25, 'cp':0.40, 'diameter':22, 'output_type':'power'} #wind specs\n",
    "\n"
   ]
  },
  {
   "cell_type": "markdown",
   "metadata": {},
   "source": [
    "The residents have decided to implement a community storage, where the electricity generated from the local renewable energy sources is stored when generation exceeds the local demand. The stored energy is used when the local generation cannot cover the demand. (+ Explanation SoC parameter in python script)"
   ]
  },
  {
   "cell_type": "markdown",
   "metadata": {},
   "source": [
    "![T1_RES_case_Bat](Graphics_T1/T1_RES_case_Bat.png)"
   ]
  },
  {
   "cell_type": "markdown",
   "metadata": {},
   "source": [
    "**Task 3a)**: Run the following python code that simulates a typical day in the local community with renewable generation and battery storage. For this task the State of charge is 100% in the beginning of the day. The controller acts in the following way: in the case of not enough local generation to cover the demand of the neighbourhood electricity is taken from the battery storage if possible, if this is not possible electricity is taken from the grid. How does the residual load curve change compared to task 2 (the utilization of small scale local renewable generation without storage).\n",
    "\n",
    "**Task 3b)**: Change the State of charge parameter to 50% in the beginning of the day and run the simulation again. Explain how this affects the residual load curve.\n",
    "\n",
    "**Task 3c)**: Change the State of charge parameter to 10% in the beginning of the day and run the simulation again. Explain how this affects the residual load curve.\n",
    "\n",
    "Note: Changing Objective Controller: Contractual/Physical Limit for connection (Peak shaving & Load Shifting, Load Shedding)\n",
    "EV/Flexibilities"
   ]
  },
  {
   "cell_type": "code",
   "execution_count": null,
   "metadata": {},
   "outputs": [],
   "source": [
    "day_of_year = \"2012-06-01\"\n",
    "\n",
    "Components_RES_Bat_case = pd.DataFrame()     # moved to notebook to choose what is included and what not in set up -> need to adjust in simulation setup\n",
    "Components_RES_Bat_case['model'] = pd.Series(['Wind', 'PV', 'Load', 'Battery'])\n",
    "\n",
    "#Input Data Simulation\n",
    "pv_panel_set ={'Module_area': 1.26, 'NOCT': 44, 'Module_Efficiency': 0.198, 'Irradiance_at_NOCT': 800,  #panel specs -> maybe adjust so number of modules can be changed\n",
    "          'Power_output_at_STC': 250,'peak_power':600}\n",
    "pv_set={'m_tilt':14,'m_az':180,'cap':500,'output_type':'power'}\n",
    "\n",
    "load_set={'houses':5, 'output_type':'power'}    #demand specs\n",
    "\n",
    "Wind_set={'p_rated':300, 'u_rated':10.3, 'u_cutin':2.8, 'u_cutout':25, 'cp':0.40, 'diameter':22, 'output_type':'power'} #wind specs\n",
    "\n",
    "Battery_initialset = {'initial_soc': 20} # combine to battery set\n",
    "Battery_set = {'max_p': 800, 'min_p': -800, 'max_energy': 800,\n",
    "            'charge_efficiency': 0.9, 'discharge_efficiency': 0.9,\n",
    "            'soc_min': 10, 'soc_max': 90, 'flag': 0,'resolution':15}\n",
    "\n"
   ]
  }
 ],
 "metadata": {
  "kernelspec": {
   "display_name": "Python 3",
   "language": "python",
   "name": "python3"
  },
  "language_info": {
   "codemirror_mode": {
    "name": "ipython",
    "version": 3
   },
   "file_extension": ".py",
   "mimetype": "text/x-python",
   "name": "python",
   "nbconvert_exporter": "python",
   "pygments_lexer": "ipython3",
   "version": "3.11.1"
  }
 },
 "nbformat": 4,
 "nbformat_minor": 2
}
